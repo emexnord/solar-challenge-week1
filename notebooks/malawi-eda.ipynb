{
 "cells": [
  {
   "cell_type": "markdown",
   "id": "fad67052",
   "metadata": {},
   "source": [
    "Imports"
   ]
  },
  {
   "cell_type": "code",
   "execution_count": 9,
   "id": "bcd76774",
   "metadata": {},
   "outputs": [],
   "source": [
    "import pandas as pd\n",
    "import numpy as np\n",
    "import matplotlib.pyplot as plt\n",
    "import seaborn as sns\n",
    "from scipy.stats import zscore\n",
    "import os\n",
    "from io import StringIO"
   ]
  },
  {
   "cell_type": "markdown",
   "id": "db1a74d3",
   "metadata": {},
   "source": [
    "Loading the data"
   ]
  },
  {
   "cell_type": "code",
   "execution_count": 26,
   "id": "693fa47d",
   "metadata": {},
   "outputs": [
    {
     "data": {
      "text/html": [
       "<div>\n",
       "<style scoped>\n",
       "    .dataframe tbody tr th:only-of-type {\n",
       "        vertical-align: middle;\n",
       "    }\n",
       "\n",
       "    .dataframe tbody tr th {\n",
       "        vertical-align: top;\n",
       "    }\n",
       "\n",
       "    .dataframe thead th {\n",
       "        text-align: right;\n",
       "    }\n",
       "</style>\n",
       "<table border=\"1\" class=\"dataframe\">\n",
       "  <thead>\n",
       "    <tr style=\"text-align: right;\">\n",
       "      <th></th>\n",
       "      <th>\"TIMESTAMP\"</th>\n",
       "      <th>\"RECORD\"</th>\n",
       "      <th>\"GHI_Avg\"</th>\n",
       "      <th>\"DIF_Avg\"</th>\n",
       "      <th>\"DNI_Avg\"</th>\n",
       "      <th>\"DNICalc_Avg\"</th>\n",
       "      <th>\"Temp_Avg\"</th>\n",
       "      <th>\"RH\"</th>\n",
       "      <th>\"Rain_Tot\"</th>\n",
       "      <th>\"WS_Avg\"</th>\n",
       "      <th>\"WVec_Mag_Avg\"</th>\n",
       "      <th>\"WD_Avg\"</th>\n",
       "      <th>\"WD_StdDev\"</th>\n",
       "      <th>\"WS_Max\"</th>\n",
       "      <th>\"BP_Avg\"</th>\n",
       "      <th>\"LoggerTemp_Avg\"</th>\n",
       "      <th>\"DNI_Calb_Avg\"</th>\n",
       "      <th>\"Calc_Azimuth\"</th>\n",
       "      <th>\"Calc_Tilt\"</th>\n",
       "    </tr>\n",
       "  </thead>\n",
       "  <tbody>\n",
       "    <tr>\n",
       "      <th>0</th>\n",
       "      <td>2016-03-16 13:04:00</td>\n",
       "      <td>0</td>\n",
       "      <td>227.0435</td>\n",
       "      <td>223.9821</td>\n",
       "      <td>1.562703</td>\n",
       "      <td>0.061581</td>\n",
       "      <td>27.79</td>\n",
       "      <td>57.43</td>\n",
       "      <td>0.0</td>\n",
       "      <td>5.316</td>\n",
       "      <td>5.159</td>\n",
       "      <td>237.8</td>\n",
       "      <td>13.81</td>\n",
       "      <td>7.448</td>\n",
       "      <td>0</td>\n",
       "      <td>32.11</td>\n",
       "      <td>0</td>\n",
       "      <td>-54.42</td>\n",
       "      <td>23.38</td>\n",
       "    </tr>\n",
       "    <tr>\n",
       "      <th>1</th>\n",
       "      <td>2016-03-16 13:05:00</td>\n",
       "      <td>1</td>\n",
       "      <td>228.1676</td>\n",
       "      <td>224.9903</td>\n",
       "      <td>1.267700</td>\n",
       "      <td>3.263819</td>\n",
       "      <td>29.55</td>\n",
       "      <td>57.84</td>\n",
       "      <td>0.0</td>\n",
       "      <td>5.877</td>\n",
       "      <td>5.781</td>\n",
       "      <td>238.7</td>\n",
       "      <td>10.34</td>\n",
       "      <td>7.840</td>\n",
       "      <td>926</td>\n",
       "      <td>32.02</td>\n",
       "      <td>0</td>\n",
       "      <td>-54.42</td>\n",
       "      <td>23.38</td>\n",
       "    </tr>\n",
       "    <tr>\n",
       "      <th>2</th>\n",
       "      <td>2016-03-16 13:06:00</td>\n",
       "      <td>2</td>\n",
       "      <td>230.6805</td>\n",
       "      <td>227.2020</td>\n",
       "      <td>1.267695</td>\n",
       "      <td>3.507268</td>\n",
       "      <td>29.58</td>\n",
       "      <td>58.79</td>\n",
       "      <td>0.0</td>\n",
       "      <td>5.856</td>\n",
       "      <td>5.707</td>\n",
       "      <td>239.8</td>\n",
       "      <td>12.90</td>\n",
       "      <td>7.644</td>\n",
       "      <td>926</td>\n",
       "      <td>31.92</td>\n",
       "      <td>0</td>\n",
       "      <td>-54.81</td>\n",
       "      <td>23.58</td>\n",
       "    </tr>\n",
       "    <tr>\n",
       "      <th>3</th>\n",
       "      <td>2016-03-16 13:07:00</td>\n",
       "      <td>3</td>\n",
       "      <td>232.6177</td>\n",
       "      <td>228.4676</td>\n",
       "      <td>1.225429</td>\n",
       "      <td>3.751496</td>\n",
       "      <td>29.40</td>\n",
       "      <td>59.77</td>\n",
       "      <td>0.0</td>\n",
       "      <td>6.274</td>\n",
       "      <td>6.195</td>\n",
       "      <td>245.1</td>\n",
       "      <td>9.08</td>\n",
       "      <td>8.040</td>\n",
       "      <td>926</td>\n",
       "      <td>31.80</td>\n",
       "      <td>0</td>\n",
       "      <td>-55.19</td>\n",
       "      <td>23.77</td>\n",
       "    </tr>\n",
       "    <tr>\n",
       "      <th>4</th>\n",
       "      <td>2016-03-16 13:08:00</td>\n",
       "      <td>4</td>\n",
       "      <td>235.9392</td>\n",
       "      <td>232.6181</td>\n",
       "      <td>1.267682</td>\n",
       "      <td>4.861165</td>\n",
       "      <td>29.22</td>\n",
       "      <td>60.41</td>\n",
       "      <td>0.0</td>\n",
       "      <td>4.516</td>\n",
       "      <td>4.389</td>\n",
       "      <td>234.6</td>\n",
       "      <td>13.57</td>\n",
       "      <td>5.684</td>\n",
       "      <td>926</td>\n",
       "      <td>31.70</td>\n",
       "      <td>0</td>\n",
       "      <td>-55.57</td>\n",
       "      <td>23.97</td>\n",
       "    </tr>\n",
       "  </tbody>\n",
       "</table>\n",
       "</div>"
      ],
      "text/plain": [
       "           \"TIMESTAMP\"  \"RECORD\"  \"GHI_Avg\"  \"DIF_Avg\"  \"DNI_Avg\"  \\\n",
       "0  2016-03-16 13:04:00         0   227.0435   223.9821   1.562703   \n",
       "1  2016-03-16 13:05:00         1   228.1676   224.9903   1.267700   \n",
       "2  2016-03-16 13:06:00         2   230.6805   227.2020   1.267695   \n",
       "3  2016-03-16 13:07:00         3   232.6177   228.4676   1.225429   \n",
       "4  2016-03-16 13:08:00         4   235.9392   232.6181   1.267682   \n",
       "\n",
       "   \"DNICalc_Avg\"  \"Temp_Avg\"   \"RH\"  \"Rain_Tot\"  \"WS_Avg\"  \"WVec_Mag_Avg\"  \\\n",
       "0       0.061581       27.79  57.43         0.0     5.316           5.159   \n",
       "1       3.263819       29.55  57.84         0.0     5.877           5.781   \n",
       "2       3.507268       29.58  58.79         0.0     5.856           5.707   \n",
       "3       3.751496       29.40  59.77         0.0     6.274           6.195   \n",
       "4       4.861165       29.22  60.41         0.0     4.516           4.389   \n",
       "\n",
       "   \"WD_Avg\"  \"WD_StdDev\"  \"WS_Max\"  \"BP_Avg\"  \"LoggerTemp_Avg\"  \\\n",
       "0     237.8        13.81     7.448         0             32.11   \n",
       "1     238.7        10.34     7.840       926             32.02   \n",
       "2     239.8        12.90     7.644       926             31.92   \n",
       "3     245.1         9.08     8.040       926             31.80   \n",
       "4     234.6        13.57     5.684       926             31.70   \n",
       "\n",
       "   \"DNI_Calb_Avg\"  \"Calc_Azimuth\"  \"Calc_Tilt\"  \n",
       "0               0          -54.42        23.38  \n",
       "1               0          -54.42        23.38  \n",
       "2               0          -54.81        23.58  \n",
       "3               0          -55.19        23.77  \n",
       "4               0          -55.57        23.97  "
      ]
     },
     "execution_count": 26,
     "metadata": {},
     "output_type": "execute_result"
    }
   ],
   "source": [
    "file_path = \"../data/Solar-Measurements_Malawi_Chileka_WB-ESMAP_Raw_00.dat\"\n",
    "with open(file_path, \"r\") as file:\n",
    "    lines = file.readlines()\n",
    "data_start_index = 4\n",
    "headers = lines[1].strip().split(\",\")\n",
    "data = lines[data_start_index:]\n",
    "data_io = StringIO(\"\".join(data))\n",
    "df = pd.read_csv(data_io, names=headers)\n",
    "df.head()"
   ]
  },
  {
   "cell_type": "markdown",
   "id": "be446526",
   "metadata": {},
   "source": [
    "Convert timestamp"
   ]
  },
  {
   "cell_type": "code",
   "execution_count": null,
   "id": "2b8f2af5",
   "metadata": {},
   "outputs": [
    {
     "name": "stdout",
     "output_type": "stream",
     "text": [
      "Index(['\"TIMESTAMP\"', '\"RECORD\"', '\"GHI_Avg\"', '\"DIF_Avg\"', '\"DNI_Avg\"',\n",
      "       '\"DNICalc_Avg\"', '\"Temp_Avg\"', '\"RH\"', '\"Rain_Tot\"', '\"WS_Avg\"',\n",
      "       '\"WVec_Mag_Avg\"', '\"WD_Avg\"', '\"WD_StdDev\"', '\"WS_Max\"', '\"BP_Avg\"',\n",
      "       '\"LoggerTemp_Avg\"', '\"DNI_Calb_Avg\"', '\"Calc_Azimuth\"', '\"Calc_Tilt\"'],\n",
      "      dtype='object')\n",
      "           \"TIMESTAMP\"  \"RECORD\"  \"GHI_Avg\"  \"DIF_Avg\"  \"DNI_Avg\"  \\\n",
      "0  2016-03-16 13:04:00         0   227.0435   223.9821   1.562703   \n",
      "1  2016-03-16 13:05:00         1   228.1676   224.9903   1.267700   \n",
      "2  2016-03-16 13:06:00         2   230.6805   227.2020   1.267695   \n",
      "3  2016-03-16 13:07:00         3   232.6177   228.4676   1.225429   \n",
      "4  2016-03-16 13:08:00         4   235.9392   232.6181   1.267682   \n",
      "\n",
      "   \"DNICalc_Avg\"  \"Temp_Avg\"   \"RH\"  \"Rain_Tot\"  \"WS_Avg\"  \"WVec_Mag_Avg\"  \\\n",
      "0       0.061581       27.79  57.43         0.0     5.316           5.159   \n",
      "1       3.263819       29.55  57.84         0.0     5.877           5.781   \n",
      "2       3.507268       29.58  58.79         0.0     5.856           5.707   \n",
      "3       3.751496       29.40  59.77         0.0     6.274           6.195   \n",
      "4       4.861165       29.22  60.41         0.0     4.516           4.389   \n",
      "\n",
      "   \"WD_Avg\"  \"WD_StdDev\"  \"WS_Max\"  \"BP_Avg\"  \"LoggerTemp_Avg\"  \\\n",
      "0     237.8        13.81     7.448         0             32.11   \n",
      "1     238.7        10.34     7.840       926             32.02   \n",
      "2     239.8        12.90     7.644       926             31.92   \n",
      "3     245.1         9.08     8.040       926             31.80   \n",
      "4     234.6        13.57     5.684       926             31.70   \n",
      "\n",
      "   \"DNI_Calb_Avg\"  \"Calc_Azimuth\"  \"Calc_Tilt\"  \n",
      "0               0          -54.42        23.38  \n",
      "1               0          -54.42        23.38  \n",
      "2               0          -54.81        23.58  \n",
      "3               0          -55.19        23.77  \n",
      "4               0          -55.57        23.97  \n"
     ]
    }
   ],
   "source": [
    "# Print column names to verify 'TIMESTAMP' exists\n",
    "print(df.columns)\n",
    "\n",
    "print(df.head())\n",
    "\n",
    "df['\"TIMESTAMP\"'] = pd.to_datetime(df['\"TIMESTAMP\"'])\n",
    "\n",
    "# Set the column as the index\n",
    "df.set_index('\"TIMESTAMP\"', inplace=True)"
   ]
  },
  {
   "cell_type": "markdown",
   "id": "ad58d416",
   "metadata": {},
   "source": [
    "Summary statistic and mising value report"
   ]
  },
  {
   "cell_type": "code",
   "execution_count": 28,
   "id": "3abbd7f0",
   "metadata": {},
   "outputs": [
    {
     "name": "stdout",
     "output_type": "stream",
     "text": [
      "Missing Columns >5%:\n",
      " Series([], dtype: int64)\n"
     ]
    }
   ],
   "source": [
    "summary_stats = df.describe()\n",
    "missing_values = df.isna().sum()\n",
    "null_cols_over_5pct = missing_values[missing_values > 0.05 * len(df)]\n",
    "print(\"Missing Columns >5%:\\n\", null_cols_over_5pct)"
   ]
  },
  {
   "cell_type": "markdown",
   "id": "d48c67f3",
   "metadata": {},
   "source": [
    "Outlier detection"
   ]
  },
  {
   "cell_type": "code",
   "execution_count": 38,
   "id": "ebad4f4b",
   "metadata": {},
   "outputs": [],
   "source": [
    "\n",
    "\n",
    "cols_to_check = [\n",
    "    '\"GHI_Avg\"',\n",
    "    '\"DNI_Avg\"',\n",
    "    '\"DNICalc_Avg\"',\n",
    "    '\"Temp_Avg\"',\n",
    "    '\"WS_Avg\"', \n",
    "]\n",
    "z_scores = df[cols_to_check].apply(zscore)\n",
    "outliers = (z_scores.abs() > 3).any(axis=1)"
   ]
  },
  {
   "cell_type": "markdown",
   "id": "6a8e83bd",
   "metadata": {},
   "source": [
    "Drop outlier"
   ]
  },
  {
   "cell_type": "code",
   "execution_count": 39,
   "id": "3f6fa736",
   "metadata": {},
   "outputs": [],
   "source": [
    "df_cleaned = df[~outliers].copy()\n",
    "\n",
    "# Impute missing values with median\n",
    "for col in cols_to_check:\n",
    "    if df_cleaned[col].isna().sum() > 0:\n",
    "        df_cleaned[col].fillna(df_cleaned[col].median(), inplace=True)"
   ]
  },
  {
   "cell_type": "markdown",
   "id": "1d09d8d1",
   "metadata": {},
   "source": [
    "Export cleaned data"
   ]
  },
  {
   "cell_type": "code",
   "execution_count": 40,
   "id": "655db568",
   "metadata": {},
   "outputs": [],
   "source": [
    "output_csv = \"../data/malawi_clean.csv\"\n",
    "df_cleaned.to_csv(output_csv)"
   ]
  },
  {
   "cell_type": "markdown",
   "id": "576b3020",
   "metadata": {},
   "source": [
    "Output directory for plots"
   ]
  },
  {
   "cell_type": "code",
   "execution_count": 41,
   "id": "0678800d",
   "metadata": {},
   "outputs": [],
   "source": [
    "output_dir = \"data/eda_outputs\"\n",
    "os.makedirs(output_dir, exist_ok=True)"
   ]
  },
  {
   "cell_type": "markdown",
   "id": "f2b91f14",
   "metadata": {},
   "source": [
    "Plots: Time series, Monthly averages, Cleaning impact, Correlation heatmap, Scatter plots, RH scatter plots, Histograms and Bubble chart"
   ]
  },
  {
   "cell_type": "code",
   "execution_count": 60,
   "id": "8b0f81a5",
   "metadata": {},
   "outputs": [],
   "source": [
    "# Time series plots\n",
    "plt.figure(figsize=(12, 6))\n",
    "df_cleaned[['\"GHI_Avg\"', '\"DNI_Avg\"', '\"DIF_Avg\"', '\"Temp_Avg\"']].plot()\n",
    "plt.title(\"Time Series: GHI, DNI, DHI, Tamb\")\n",
    "plt.savefig(f\"{output_dir}/time_series.png\")\n",
    "plt.close()\n",
    "\n",
    "# Monthly averages\n",
    "df_cleaned['\"Month\"'] = df_cleaned.index.month\n",
    "monthly_avg = df_cleaned.groupby('\"Month\"')[\n",
    "    ['\"GHI_Avg\"','\"DNI_Avg\"','\"DIF_Avg\"','\"Temp_Avg\"']\n",
    "].mean()\n",
    "monthly_avg.plot(kind=\"bar\", title=\"Monthly Averages\")\n",
    "plt.savefig(f\"{output_dir}/monthly_averages.png\")\n",
    "plt.close()\n",
    "\n",
    "# Cleaning impact\n",
    "# df_cleaned[\"Cleaning\"] = np.random.choice([\"Pre\", \"Post\"], size=len(df_cleaned))\n",
    "# df_cleaned.groupby(\"Cleaning\")[['\"ModA\"', '\"ModB\"']].mean().plot(\n",
    "#     kind=\"bar\", title=\"Cleaning Impact on ModA & ModB\"\n",
    "# )\n",
    "# plt.savefig(f\"{output_dir}/cleaning_impact.png\")\n",
    "# plt.close()\n",
    "\n",
    "# Correlation heatmap\n",
    "corr_cols = ['\"GHI_Avg\"', '\"DNI_Avg\"', '\"DIF_Avg\"','\"Temp_Avg\"']\n",
    "sns.heatmap(df_cleaned[corr_cols].corr(), annot=True, cmap=\"coolwarm\")\n",
    "plt.title(\"Correlation Heatmap\")\n",
    "plt.savefig(f\"{output_dir}/correlation_heatmap.png\")\n",
    "plt.close()\n",
    "\n",
    "# Scatter plots\n",
    "fig, axs = plt.subplots(1, 3, figsize=(18, 5))\n",
    "sns.scatterplot(data=df_cleaned, x='\"WS_Avg\"', y='\"GHI_Avg\"', ax=axs[0])\n",
    "axs[0].set_title(\"WS vs GHI\")\n",
    "sns.scatterplot(data=df_cleaned, x='\"WS_Avg\"', y='\"GHI_Avg\"', ax=axs[1])\n",
    "axs[1].set_title(\"WSgust vs GHI\")\n",
    "sns.scatterplot(data=df_cleaned, x='\"WD_Avg\"', y='\"GHI_Avg\"', ax=axs[2])\n",
    "axs[2].set_title(\"WD vs GHI\")\n",
    "plt.tight_layout()\n",
    "plt.savefig(f\"{output_dir}/scatter_ws_ghi.png\")\n",
    "plt.close()\n",
    "\n",
    "# RH scatter plots\n",
    "fig, axs = plt.subplots(1, 2, figsize=(14, 5))\n",
    "sns.scatterplot(data=df_cleaned, x='\"RH\"', y='\"Temp_Avg\"', ax=axs[0])\n",
    "axs[0].set_title(\"RH vs Tamb\")\n",
    "sns.scatterplot(data=df_cleaned, x='\"RH\"', y='\"GHI_Avg\"', ax=axs[1])\n",
    "axs[1].set_title(\"RH vs GHI\")\n",
    "plt.tight_layout()\n",
    "plt.savefig(f\"{output_dir}/scatter_rh.png\")\n",
    "plt.close()\n",
    "\n",
    "# Histograms\n",
    "fig, axs = plt.subplots(1, 2, figsize=(14, 5))\n",
    "df_cleaned['\"GHI_Avg\"'].hist(ax=axs[0], bins=30)\n",
    "axs[0].set_title(\"Histogram of GHI\")\n",
    "df_cleaned['\"WS_Avg\"'].hist(ax=axs[1], bins=30)\n",
    "axs[1].set_title(\"Histogram of WS\")\n",
    "plt.tight_layout()\n",
    "plt.savefig(f\"{output_dir}/histograms.png\")\n",
    "plt.close()\n",
    "\n",
    "# Bubble chart\n",
    "plt.figure(figsize=(10, 6))\n",
    "plt.scatter(\n",
    "    df_cleaned['\"GHI_Avg\"'], df_cleaned['\"Temp_Avg\"'], s=df_cleaned['\"RH\"'], alpha=0.5\n",
    ")\n",
    "plt.xlabel(\"GHI\")\n",
    "plt.ylabel(\"Tamb\")\n",
    "plt.title(\"Bubble Chart: GHI vs Tamb (bubble size = RH)\")\n",
    "plt.savefig(f\"{output_dir}/bubble_chart.png\")\n",
    "plt.close()"
   ]
  },
  {
   "cell_type": "markdown",
   "id": "80e0b76b",
   "metadata": {},
   "source": [
    "Step 2"
   ]
  }
 ],
 "metadata": {
  "kernelspec": {
   "display_name": "venv",
   "language": "python",
   "name": "python3"
  },
  "language_info": {
   "codemirror_mode": {
    "name": "ipython",
    "version": 3
   },
   "file_extension": ".py",
   "mimetype": "text/x-python",
   "name": "python",
   "nbconvert_exporter": "python",
   "pygments_lexer": "ipython3",
   "version": "3.12.3"
  }
 },
 "nbformat": 4,
 "nbformat_minor": 5
}
